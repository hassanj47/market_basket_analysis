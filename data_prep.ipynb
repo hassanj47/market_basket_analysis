{
 "cells": [
  {
   "cell_type": "markdown",
   "metadata": {},
   "source": [
    "### Imports"
   ]
  },
  {
   "cell_type": "code",
   "execution_count": 1,
   "metadata": {},
   "outputs": [],
   "source": [
    "import numpy as np\n",
    "import pandas as pd\n",
    "from pandas_profiling import ProfileReport\n",
    "from mlxtend.preprocessing import TransactionEncoder\n",
    "from mlxtend.frequent_patterns import apriori, association_rules\n",
    "import matplotlib.pyplot as plt\n",
    "import seaborn as sns\n",
    "from pandas.plotting import parallel_coordinates"
   ]
  },
  {
   "cell_type": "code",
   "execution_count": 2,
   "metadata": {},
   "outputs": [],
   "source": [
    "# setting up pandas options\n",
    "pd.set_option('display.max_colwidth', None)"
   ]
  },
  {
   "cell_type": "markdown",
   "metadata": {},
   "source": [
    "### Loading data"
   ]
  },
  {
   "cell_type": "code",
   "execution_count": 3,
   "metadata": {},
   "outputs": [
    {
     "data": {
      "text/html": [
       "<div>\n",
       "<style scoped>\n",
       "    .dataframe tbody tr th:only-of-type {\n",
       "        vertical-align: middle;\n",
       "    }\n",
       "\n",
       "    .dataframe tbody tr th {\n",
       "        vertical-align: top;\n",
       "    }\n",
       "\n",
       "    .dataframe thead th {\n",
       "        text-align: right;\n",
       "    }\n",
       "</style>\n",
       "<table border=\"1\" class=\"dataframe\">\n",
       "  <thead>\n",
       "    <tr style=\"text-align: right;\">\n",
       "      <th></th>\n",
       "      <th>event_type</th>\n",
       "      <th>product_id</th>\n",
       "      <th>category_id</th>\n",
       "      <th>category_code</th>\n",
       "      <th>brand</th>\n",
       "      <th>price</th>\n",
       "      <th>user_id</th>\n",
       "      <th>user_session</th>\n",
       "    </tr>\n",
       "    <tr>\n",
       "      <th>event_time</th>\n",
       "      <th></th>\n",
       "      <th></th>\n",
       "      <th></th>\n",
       "      <th></th>\n",
       "      <th></th>\n",
       "      <th></th>\n",
       "      <th></th>\n",
       "      <th></th>\n",
       "    </tr>\n",
       "  </thead>\n",
       "  <tbody>\n",
       "    <tr>\n",
       "      <th>2019-10-01 00:00:00 UTC</th>\n",
       "      <td>view</td>\n",
       "      <td>44600062</td>\n",
       "      <td>2103807459595387724</td>\n",
       "      <td>NaN</td>\n",
       "      <td>shiseido</td>\n",
       "      <td>35.79</td>\n",
       "      <td>541312140</td>\n",
       "      <td>72d76fde-8bb3-4e00-8c23-a032dfed738c</td>\n",
       "    </tr>\n",
       "  </tbody>\n",
       "</table>\n",
       "</div>"
      ],
      "text/plain": [
       "                        event_type  product_id          category_id  \\\n",
       "event_time                                                            \n",
       "2019-10-01 00:00:00 UTC       view    44600062  2103807459595387724   \n",
       "\n",
       "                         category_code     brand  price    user_id  \\\n",
       "event_time                                                           \n",
       "2019-10-01 00:00:00 UTC            NaN  shiseido  35.79  541312140   \n",
       "\n",
       "                                                 user_session  \n",
       "event_time                                                     \n",
       "2019-10-01 00:00:00 UTC  72d76fde-8bb3-4e00-8c23-a032dfed738c  "
      ]
     },
     "execution_count": 3,
     "metadata": {},
     "output_type": "execute_result"
    }
   ],
   "source": [
    "path = '~/ecomm-open-cdp/2019-Oct.csv'\n",
    "header = pd.read_csv(path, index_col=0, nrows=1)\n",
    "header"
   ]
  },
  {
   "cell_type": "code",
   "execution_count": 4,
   "metadata": {},
   "outputs": [],
   "source": [
    "# filtering on event_type = purchase and category_code not na\n",
    "data_chunks = pd.read_csv(path, iterator = True, chunksize = 10000)\n",
    "store_data = pd.concat([ chunk[(~chunk.category_code.isna()) & (chunk.event_type == 'purchase')] for chunk in data_chunks])"
   ]
  },
  {
   "cell_type": "code",
   "execution_count": 5,
   "metadata": {},
   "outputs": [
    {
     "name": "stdout",
     "output_type": "stream",
     "text": [
      "<class 'pandas.core.frame.DataFrame'>\n",
      "Int64Index: 569424 entries, 162 to 42448657\n",
      "Data columns (total 9 columns):\n",
      " #   Column         Non-Null Count   Dtype  \n",
      "---  ------         --------------   -----  \n",
      " 0   event_time     569424 non-null  object \n",
      " 1   event_type     569424 non-null  object \n",
      " 2   product_id     569424 non-null  int64  \n",
      " 3   category_id    569424 non-null  int64  \n",
      " 4   category_code  569424 non-null  object \n",
      " 5   brand          549507 non-null  object \n",
      " 6   price          569424 non-null  float64\n",
      " 7   user_id        569424 non-null  int64  \n",
      " 8   user_session   569424 non-null  object \n",
      "dtypes: float64(1), int64(3), object(5)\n",
      "memory usage: 43.4+ MB\n"
     ]
    }
   ],
   "source": [
    "store_data.info()"
   ]
  },
  {
   "cell_type": "code",
   "execution_count": 6,
   "metadata": {},
   "outputs": [
    {
     "data": {
      "text/html": [
       "<div>\n",
       "<style scoped>\n",
       "    .dataframe tbody tr th:only-of-type {\n",
       "        vertical-align: middle;\n",
       "    }\n",
       "\n",
       "    .dataframe tbody tr th {\n",
       "        vertical-align: top;\n",
       "    }\n",
       "\n",
       "    .dataframe thead th {\n",
       "        text-align: right;\n",
       "    }\n",
       "</style>\n",
       "<table border=\"1\" class=\"dataframe\">\n",
       "  <thead>\n",
       "    <tr style=\"text-align: right;\">\n",
       "      <th></th>\n",
       "      <th>event_time</th>\n",
       "      <th>event_type</th>\n",
       "      <th>product_id</th>\n",
       "      <th>category_id</th>\n",
       "      <th>category_code</th>\n",
       "      <th>brand</th>\n",
       "      <th>price</th>\n",
       "      <th>user_id</th>\n",
       "      <th>user_session</th>\n",
       "    </tr>\n",
       "  </thead>\n",
       "  <tbody>\n",
       "    <tr>\n",
       "      <th>162</th>\n",
       "      <td>2019-10-01 00:02:14 UTC</td>\n",
       "      <td>purchase</td>\n",
       "      <td>1004856</td>\n",
       "      <td>2053013555631882655</td>\n",
       "      <td>electronics.smartphone</td>\n",
       "      <td>samsung</td>\n",
       "      <td>130.76</td>\n",
       "      <td>543272936</td>\n",
       "      <td>8187d148-3c41-46d4-b0c0-9c08cd9dc564</td>\n",
       "    </tr>\n",
       "    <tr>\n",
       "      <th>308</th>\n",
       "      <td>2019-10-01 00:04:37 UTC</td>\n",
       "      <td>purchase</td>\n",
       "      <td>1002532</td>\n",
       "      <td>2053013555631882655</td>\n",
       "      <td>electronics.smartphone</td>\n",
       "      <td>apple</td>\n",
       "      <td>642.69</td>\n",
       "      <td>551377651</td>\n",
       "      <td>3c80f0d6-e9ec-4181-8c5c-837a30be2d68</td>\n",
       "    </tr>\n",
       "    <tr>\n",
       "      <th>442</th>\n",
       "      <td>2019-10-01 00:07:07 UTC</td>\n",
       "      <td>purchase</td>\n",
       "      <td>13800054</td>\n",
       "      <td>2053013557418656265</td>\n",
       "      <td>furniture.bathroom.toilet</td>\n",
       "      <td>santeri</td>\n",
       "      <td>54.42</td>\n",
       "      <td>555332717</td>\n",
       "      <td>1dea3ee2-2ded-42e8-8e7a-4e2ad6ae942f</td>\n",
       "    </tr>\n",
       "    <tr>\n",
       "      <th>574</th>\n",
       "      <td>2019-10-01 00:09:26 UTC</td>\n",
       "      <td>purchase</td>\n",
       "      <td>4804055</td>\n",
       "      <td>2053013554658804075</td>\n",
       "      <td>electronics.audio.headphone</td>\n",
       "      <td>apple</td>\n",
       "      <td>189.91</td>\n",
       "      <td>524601178</td>\n",
       "      <td>2af9b570-0942-4dcd-8f25-4d84fba82553</td>\n",
       "    </tr>\n",
       "    <tr>\n",
       "      <th>603</th>\n",
       "      <td>2019-10-01 00:09:54 UTC</td>\n",
       "      <td>purchase</td>\n",
       "      <td>4804056</td>\n",
       "      <td>2053013554658804075</td>\n",
       "      <td>electronics.audio.headphone</td>\n",
       "      <td>apple</td>\n",
       "      <td>161.98</td>\n",
       "      <td>551377651</td>\n",
       "      <td>3c80f0d6-e9ec-4181-8c5c-837a30be2d68</td>\n",
       "    </tr>\n",
       "  </tbody>\n",
       "</table>\n",
       "</div>"
      ],
      "text/plain": [
       "                  event_time event_type  product_id          category_id  \\\n",
       "162  2019-10-01 00:02:14 UTC   purchase     1004856  2053013555631882655   \n",
       "308  2019-10-01 00:04:37 UTC   purchase     1002532  2053013555631882655   \n",
       "442  2019-10-01 00:07:07 UTC   purchase    13800054  2053013557418656265   \n",
       "574  2019-10-01 00:09:26 UTC   purchase     4804055  2053013554658804075   \n",
       "603  2019-10-01 00:09:54 UTC   purchase     4804056  2053013554658804075   \n",
       "\n",
       "                   category_code    brand   price    user_id  \\\n",
       "162       electronics.smartphone  samsung  130.76  543272936   \n",
       "308       electronics.smartphone    apple  642.69  551377651   \n",
       "442    furniture.bathroom.toilet  santeri   54.42  555332717   \n",
       "574  electronics.audio.headphone    apple  189.91  524601178   \n",
       "603  electronics.audio.headphone    apple  161.98  551377651   \n",
       "\n",
       "                             user_session  \n",
       "162  8187d148-3c41-46d4-b0c0-9c08cd9dc564  \n",
       "308  3c80f0d6-e9ec-4181-8c5c-837a30be2d68  \n",
       "442  1dea3ee2-2ded-42e8-8e7a-4e2ad6ae942f  \n",
       "574  2af9b570-0942-4dcd-8f25-4d84fba82553  \n",
       "603  3c80f0d6-e9ec-4181-8c5c-837a30be2d68  "
      ]
     },
     "execution_count": 6,
     "metadata": {},
     "output_type": "execute_result"
    }
   ],
   "source": [
    "store_data.head()"
   ]
  },
  {
   "cell_type": "code",
   "execution_count": 7,
   "metadata": {},
   "outputs": [
    {
     "data": {
      "text/plain": [
       "(569424, 9)"
      ]
     },
     "execution_count": 7,
     "metadata": {},
     "output_type": "execute_result"
    }
   ],
   "source": [
    "store_data.shape"
   ]
  },
  {
   "cell_type": "code",
   "execution_count": 8,
   "metadata": {},
   "outputs": [],
   "source": [
    "#saving filtered data\n",
    "store_data.to_csv('~/ecomm-open-cdp/2019-csv-filt.csv')"
   ]
  },
  {
   "cell_type": "markdown",
   "metadata": {},
   "source": [
    "### Filtetring data"
   ]
  },
  {
   "cell_type": "code",
   "execution_count": 9,
   "metadata": {},
   "outputs": [],
   "source": [
    "FILT_COLS = ['user_id', 'user_session', 'category_code']"
   ]
  },
  {
   "cell_type": "code",
   "execution_count": 10,
   "metadata": {},
   "outputs": [
    {
     "data": {
      "text/html": [
       "<div>\n",
       "<style scoped>\n",
       "    .dataframe tbody tr th:only-of-type {\n",
       "        vertical-align: middle;\n",
       "    }\n",
       "\n",
       "    .dataframe tbody tr th {\n",
       "        vertical-align: top;\n",
       "    }\n",
       "\n",
       "    .dataframe thead th {\n",
       "        text-align: right;\n",
       "    }\n",
       "</style>\n",
       "<table border=\"1\" class=\"dataframe\">\n",
       "  <thead>\n",
       "    <tr style=\"text-align: right;\">\n",
       "      <th></th>\n",
       "      <th>user_id</th>\n",
       "      <th>user_session</th>\n",
       "      <th>category_code</th>\n",
       "    </tr>\n",
       "  </thead>\n",
       "  <tbody>\n",
       "    <tr>\n",
       "      <th>162</th>\n",
       "      <td>543272936</td>\n",
       "      <td>8187d148-3c41-46d4-b0c0-9c08cd9dc564</td>\n",
       "      <td>electronics.smartphone</td>\n",
       "    </tr>\n",
       "    <tr>\n",
       "      <th>308</th>\n",
       "      <td>551377651</td>\n",
       "      <td>3c80f0d6-e9ec-4181-8c5c-837a30be2d68</td>\n",
       "      <td>electronics.smartphone</td>\n",
       "    </tr>\n",
       "    <tr>\n",
       "      <th>442</th>\n",
       "      <td>555332717</td>\n",
       "      <td>1dea3ee2-2ded-42e8-8e7a-4e2ad6ae942f</td>\n",
       "      <td>furniture.bathroom.toilet</td>\n",
       "    </tr>\n",
       "    <tr>\n",
       "      <th>574</th>\n",
       "      <td>524601178</td>\n",
       "      <td>2af9b570-0942-4dcd-8f25-4d84fba82553</td>\n",
       "      <td>electronics.audio.headphone</td>\n",
       "    </tr>\n",
       "    <tr>\n",
       "      <th>603</th>\n",
       "      <td>551377651</td>\n",
       "      <td>3c80f0d6-e9ec-4181-8c5c-837a30be2d68</td>\n",
       "      <td>electronics.audio.headphone</td>\n",
       "    </tr>\n",
       "  </tbody>\n",
       "</table>\n",
       "</div>"
      ],
      "text/plain": [
       "       user_id                          user_session  \\\n",
       "162  543272936  8187d148-3c41-46d4-b0c0-9c08cd9dc564   \n",
       "308  551377651  3c80f0d6-e9ec-4181-8c5c-837a30be2d68   \n",
       "442  555332717  1dea3ee2-2ded-42e8-8e7a-4e2ad6ae942f   \n",
       "574  524601178  2af9b570-0942-4dcd-8f25-4d84fba82553   \n",
       "603  551377651  3c80f0d6-e9ec-4181-8c5c-837a30be2d68   \n",
       "\n",
       "                   category_code  \n",
       "162       electronics.smartphone  \n",
       "308       electronics.smartphone  \n",
       "442    furniture.bathroom.toilet  \n",
       "574  electronics.audio.headphone  \n",
       "603  electronics.audio.headphone  "
      ]
     },
     "execution_count": 10,
     "metadata": {},
     "output_type": "execute_result"
    }
   ],
   "source": [
    "filt_data = store_data[FILT_COLS]\n",
    "filt_data.head()"
   ]
  },
  {
   "cell_type": "code",
   "execution_count": 11,
   "metadata": {},
   "outputs": [],
   "source": [
    "trans_groups = filt_data.groupby(['user_id','user_session'])"
   ]
  },
  {
   "cell_type": "code",
   "execution_count": 12,
   "metadata": {},
   "outputs": [
    {
     "name": "stdout",
     "output_type": "stream",
     "text": [
      "Total transactions in the dataset 483608\n"
     ]
    }
   ],
   "source": [
    "print('Total transactions in the dataset', trans_groups.ngroups)"
   ]
  },
  {
   "cell_type": "code",
   "execution_count": 13,
   "metadata": {},
   "outputs": [
    {
     "data": {
      "text/plain": [
       "user_id    user_session                        \n",
       "303160429  8957377b-66b3-4661-ae91-5c2b5e29fd0e    1\n",
       "340041246  596ea40e-80c7-4c30-bca4-60513fec1925    1\n",
       "384989212  7472f245-e885-4c5e-b3b1-476a7b19b508    1\n",
       "401021311  a47a58c4-808a-480f-b116-7e15cdeffd05    1\n",
       "403013066  10456526-1e4c-487b-824b-04dd0d1b73d1    2\n",
       "                                                  ..\n",
       "566265448  926bbe7d-e295-4c6b-a635-c9ea804b8f84    1\n",
       "566267483  875bbd0f-88c9-4ff1-afd3-b5d7ba4fd32a    2\n",
       "566270060  3c542b6f-f1f5-42cb-8c3e-809f9d4e86bc    2\n",
       "566274637  1055400a-55b5-4d1e-9152-92e25c7e9266    1\n",
       "566278294  88aa1f8b-8a36-4767-a0e2-2b984c2190c1    1\n",
       "Length: 483608, dtype: int64"
      ]
     },
     "execution_count": 13,
     "metadata": {},
     "output_type": "execute_result"
    }
   ],
   "source": [
    "group_sizes =  trans_groups.size()\n",
    "group_sizes"
   ]
  },
  {
   "cell_type": "code",
   "execution_count": 14,
   "metadata": {},
   "outputs": [],
   "source": [
    "#Transaction aggregator\n",
    "def transaction_agg(df):\n",
    "    items = list(set(df.category_code))\n",
    "    return pd.DataFrame({'items':[items]})"
   ]
  },
  {
   "cell_type": "code",
   "execution_count": 15,
   "metadata": {},
   "outputs": [],
   "source": [
    "#aggregating transactions across userids and sessionids\n",
    "transactions_df = trans_groups.apply(transaction_agg).reset_index()"
   ]
  },
  {
   "cell_type": "code",
   "execution_count": 16,
   "metadata": {},
   "outputs": [
    {
     "data": {
      "text/html": [
       "<div>\n",
       "<style scoped>\n",
       "    .dataframe tbody tr th:only-of-type {\n",
       "        vertical-align: middle;\n",
       "    }\n",
       "\n",
       "    .dataframe tbody tr th {\n",
       "        vertical-align: top;\n",
       "    }\n",
       "\n",
       "    .dataframe thead th {\n",
       "        text-align: right;\n",
       "    }\n",
       "</style>\n",
       "<table border=\"1\" class=\"dataframe\">\n",
       "  <thead>\n",
       "    <tr style=\"text-align: right;\">\n",
       "      <th></th>\n",
       "      <th>user_id</th>\n",
       "      <th>user_session</th>\n",
       "      <th>level_2</th>\n",
       "      <th>items</th>\n",
       "    </tr>\n",
       "  </thead>\n",
       "  <tbody>\n",
       "    <tr>\n",
       "      <th>0</th>\n",
       "      <td>303160429</td>\n",
       "      <td>8957377b-66b3-4661-ae91-5c2b5e29fd0e</td>\n",
       "      <td>0</td>\n",
       "      <td>[electronics.clocks]</td>\n",
       "    </tr>\n",
       "    <tr>\n",
       "      <th>1</th>\n",
       "      <td>340041246</td>\n",
       "      <td>596ea40e-80c7-4c30-bca4-60513fec1925</td>\n",
       "      <td>0</td>\n",
       "      <td>[electronics.video.tv]</td>\n",
       "    </tr>\n",
       "    <tr>\n",
       "      <th>2</th>\n",
       "      <td>384989212</td>\n",
       "      <td>7472f245-e885-4c5e-b3b1-476a7b19b508</td>\n",
       "      <td>0</td>\n",
       "      <td>[appliances.kitchen.oven]</td>\n",
       "    </tr>\n",
       "    <tr>\n",
       "      <th>3</th>\n",
       "      <td>401021311</td>\n",
       "      <td>a47a58c4-808a-480f-b116-7e15cdeffd05</td>\n",
       "      <td>0</td>\n",
       "      <td>[electronics.video.tv]</td>\n",
       "    </tr>\n",
       "    <tr>\n",
       "      <th>4</th>\n",
       "      <td>403013066</td>\n",
       "      <td>10456526-1e4c-487b-824b-04dd0d1b73d1</td>\n",
       "      <td>0</td>\n",
       "      <td>[electronics.smartphone]</td>\n",
       "    </tr>\n",
       "    <tr>\n",
       "      <th>...</th>\n",
       "      <td>...</td>\n",
       "      <td>...</td>\n",
       "      <td>...</td>\n",
       "      <td>...</td>\n",
       "    </tr>\n",
       "    <tr>\n",
       "      <th>483603</th>\n",
       "      <td>566265448</td>\n",
       "      <td>926bbe7d-e295-4c6b-a635-c9ea804b8f84</td>\n",
       "      <td>0</td>\n",
       "      <td>[electronics.clocks]</td>\n",
       "    </tr>\n",
       "    <tr>\n",
       "      <th>483604</th>\n",
       "      <td>566267483</td>\n",
       "      <td>875bbd0f-88c9-4ff1-afd3-b5d7ba4fd32a</td>\n",
       "      <td>0</td>\n",
       "      <td>[kids.toys, computers.peripherals.mouse]</td>\n",
       "    </tr>\n",
       "    <tr>\n",
       "      <th>483605</th>\n",
       "      <td>566270060</td>\n",
       "      <td>3c542b6f-f1f5-42cb-8c3e-809f9d4e86bc</td>\n",
       "      <td>0</td>\n",
       "      <td>[appliances.kitchen.microwave, electronics.smartphone]</td>\n",
       "    </tr>\n",
       "    <tr>\n",
       "      <th>483606</th>\n",
       "      <td>566274637</td>\n",
       "      <td>1055400a-55b5-4d1e-9152-92e25c7e9266</td>\n",
       "      <td>0</td>\n",
       "      <td>[electronics.smartphone]</td>\n",
       "    </tr>\n",
       "    <tr>\n",
       "      <th>483607</th>\n",
       "      <td>566278294</td>\n",
       "      <td>88aa1f8b-8a36-4767-a0e2-2b984c2190c1</td>\n",
       "      <td>0</td>\n",
       "      <td>[electronics.smartphone]</td>\n",
       "    </tr>\n",
       "  </tbody>\n",
       "</table>\n",
       "<p>483608 rows × 4 columns</p>\n",
       "</div>"
      ],
      "text/plain": [
       "          user_id                          user_session  level_2  \\\n",
       "0       303160429  8957377b-66b3-4661-ae91-5c2b5e29fd0e        0   \n",
       "1       340041246  596ea40e-80c7-4c30-bca4-60513fec1925        0   \n",
       "2       384989212  7472f245-e885-4c5e-b3b1-476a7b19b508        0   \n",
       "3       401021311  a47a58c4-808a-480f-b116-7e15cdeffd05        0   \n",
       "4       403013066  10456526-1e4c-487b-824b-04dd0d1b73d1        0   \n",
       "...           ...                                   ...      ...   \n",
       "483603  566265448  926bbe7d-e295-4c6b-a635-c9ea804b8f84        0   \n",
       "483604  566267483  875bbd0f-88c9-4ff1-afd3-b5d7ba4fd32a        0   \n",
       "483605  566270060  3c542b6f-f1f5-42cb-8c3e-809f9d4e86bc        0   \n",
       "483606  566274637  1055400a-55b5-4d1e-9152-92e25c7e9266        0   \n",
       "483607  566278294  88aa1f8b-8a36-4767-a0e2-2b984c2190c1        0   \n",
       "\n",
       "                                                         items  \n",
       "0                                         [electronics.clocks]  \n",
       "1                                       [electronics.video.tv]  \n",
       "2                                    [appliances.kitchen.oven]  \n",
       "3                                       [electronics.video.tv]  \n",
       "4                                     [electronics.smartphone]  \n",
       "...                                                        ...  \n",
       "483603                                    [electronics.clocks]  \n",
       "483604                [kids.toys, computers.peripherals.mouse]  \n",
       "483605  [appliances.kitchen.microwave, electronics.smartphone]  \n",
       "483606                                [electronics.smartphone]  \n",
       "483607                                [electronics.smartphone]  \n",
       "\n",
       "[483608 rows x 4 columns]"
      ]
     },
     "execution_count": 16,
     "metadata": {},
     "output_type": "execute_result"
    }
   ],
   "source": [
    "transactions_df"
   ]
  },
  {
   "cell_type": "code",
   "execution_count": 17,
   "metadata": {},
   "outputs": [],
   "source": [
    "transactions = list(transactions_df['items'])"
   ]
  },
  {
   "cell_type": "code",
   "execution_count": 18,
   "metadata": {},
   "outputs": [],
   "source": [
    "#one hot encoding transactions\n",
    "te = TransactionEncoder()\n",
    "items = te.fit(transactions).transform(transactions)\n",
    "items_df = pd.DataFrame(items, columns=te.columns_)"
   ]
  },
  {
   "cell_type": "code",
   "execution_count": 19,
   "metadata": {},
   "outputs": [],
   "source": [
    "items_df.to_csv('~/ecomm-open-cdp/items_ohe_2019_oct.csv')"
   ]
  },
  {
   "cell_type": "code",
   "execution_count": 20,
   "metadata": {},
   "outputs": [
    {
     "name": "stdout",
     "output_type": "stream",
     "text": [
      "<class 'pandas.core.frame.DataFrame'>\n",
      "RangeIndex: 483608 entries, 0 to 483607\n",
      "Columns: 121 entries, accessories.bag to stationery.cartrige\n",
      "dtypes: bool(121)\n",
      "memory usage: 55.8 MB\n"
     ]
    }
   ],
   "source": [
    "items_df.info()"
   ]
  },
  {
   "cell_type": "code",
   "execution_count": 21,
   "metadata": {},
   "outputs": [],
   "source": [
    "items_df.to_parquet('~/ecomm-open-cdp/items_ohe_2019_oct.parquet')"
   ]
  },
  {
   "cell_type": "code",
   "execution_count": null,
   "metadata": {},
   "outputs": [],
   "source": []
  },
  {
   "cell_type": "code",
   "execution_count": null,
   "metadata": {},
   "outputs": [],
   "source": []
  }
 ],
 "metadata": {
  "kernelspec": {
   "display_name": "Python 3 (ipykernel)",
   "language": "python",
   "name": "python3"
  },
  "language_info": {
   "codemirror_mode": {
    "name": "ipython",
    "version": 3
   },
   "file_extension": ".py",
   "mimetype": "text/x-python",
   "name": "python",
   "nbconvert_exporter": "python",
   "pygments_lexer": "ipython3",
   "version": "3.10.4"
  }
 },
 "nbformat": 4,
 "nbformat_minor": 4
}
