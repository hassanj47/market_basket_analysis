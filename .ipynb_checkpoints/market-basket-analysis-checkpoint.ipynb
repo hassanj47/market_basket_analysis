{
 "cells": [
  {
   "cell_type": "markdown",
   "metadata": {},
   "source": [
    "### Imports"
   ]
  },
  {
   "cell_type": "code",
   "execution_count": 1,
   "metadata": {},
   "outputs": [],
   "source": [
    "import numpy as np\n",
    "import pandas as pd\n",
    "from pandas_profiling import ProfileReport\n",
    "from mlxtend.preprocessing import TransactionEncoder\n",
    "from mlxtend.frequent_patterns import apriori, association_rules\n",
    "import matplotlib.pyplot as plt\n",
    "import seaborn as sns\n",
    "from pandas.plotting import parallel_coordinates"
   ]
  },
  {
   "cell_type": "code",
   "execution_count": 2,
   "metadata": {},
   "outputs": [],
   "source": [
    "# setting up pandas options\n",
    "pd.set_option('display.max_colwidth', None)"
   ]
  },
  {
   "cell_type": "markdown",
   "metadata": {},
   "source": [
    "### Loading data"
   ]
  },
  {
   "cell_type": "code",
   "execution_count": 3,
   "metadata": {},
   "outputs": [],
   "source": [
    "path = '~/ecomm-open-cdp/items_ohe_2019_oct.csv'\n",
    "items_df = pd.read_csv(path).reset_index(drop=True)"
   ]
  },
  {
   "cell_type": "code",
   "execution_count": 4,
   "metadata": {},
   "outputs": [
    {
     "data": {
      "text/html": [
       "<div>\n",
       "<style scoped>\n",
       "    .dataframe tbody tr th:only-of-type {\n",
       "        vertical-align: middle;\n",
       "    }\n",
       "\n",
       "    .dataframe tbody tr th {\n",
       "        vertical-align: top;\n",
       "    }\n",
       "\n",
       "    .dataframe thead th {\n",
       "        text-align: right;\n",
       "    }\n",
       "</style>\n",
       "<table border=\"1\" class=\"dataframe\">\n",
       "  <thead>\n",
       "    <tr style=\"text-align: right;\">\n",
       "      <th></th>\n",
       "      <th>accessories.bag</th>\n",
       "      <th>accessories.umbrella</th>\n",
       "      <th>accessories.wallet</th>\n",
       "      <th>apparel.belt</th>\n",
       "      <th>apparel.costume</th>\n",
       "      <th>apparel.dress</th>\n",
       "      <th>apparel.jacket</th>\n",
       "      <th>apparel.jeans</th>\n",
       "      <th>apparel.jumper</th>\n",
       "      <th>apparel.scarf</th>\n",
       "      <th>...</th>\n",
       "      <th>kids.skates</th>\n",
       "      <th>kids.swing</th>\n",
       "      <th>kids.toys</th>\n",
       "      <th>medicine.tools.tonometer</th>\n",
       "      <th>sport.bicycle</th>\n",
       "      <th>sport.ski</th>\n",
       "      <th>sport.snowboard</th>\n",
       "      <th>sport.tennis</th>\n",
       "      <th>sport.trainer</th>\n",
       "      <th>stationery.cartrige</th>\n",
       "    </tr>\n",
       "  </thead>\n",
       "  <tbody>\n",
       "    <tr>\n",
       "      <th>0</th>\n",
       "      <td>False</td>\n",
       "      <td>False</td>\n",
       "      <td>False</td>\n",
       "      <td>False</td>\n",
       "      <td>False</td>\n",
       "      <td>False</td>\n",
       "      <td>False</td>\n",
       "      <td>False</td>\n",
       "      <td>False</td>\n",
       "      <td>False</td>\n",
       "      <td>...</td>\n",
       "      <td>False</td>\n",
       "      <td>False</td>\n",
       "      <td>False</td>\n",
       "      <td>False</td>\n",
       "      <td>False</td>\n",
       "      <td>False</td>\n",
       "      <td>False</td>\n",
       "      <td>False</td>\n",
       "      <td>False</td>\n",
       "      <td>False</td>\n",
       "    </tr>\n",
       "    <tr>\n",
       "      <th>1</th>\n",
       "      <td>False</td>\n",
       "      <td>False</td>\n",
       "      <td>False</td>\n",
       "      <td>False</td>\n",
       "      <td>False</td>\n",
       "      <td>False</td>\n",
       "      <td>False</td>\n",
       "      <td>False</td>\n",
       "      <td>False</td>\n",
       "      <td>False</td>\n",
       "      <td>...</td>\n",
       "      <td>False</td>\n",
       "      <td>False</td>\n",
       "      <td>False</td>\n",
       "      <td>False</td>\n",
       "      <td>False</td>\n",
       "      <td>False</td>\n",
       "      <td>False</td>\n",
       "      <td>False</td>\n",
       "      <td>False</td>\n",
       "      <td>False</td>\n",
       "    </tr>\n",
       "    <tr>\n",
       "      <th>2</th>\n",
       "      <td>False</td>\n",
       "      <td>False</td>\n",
       "      <td>False</td>\n",
       "      <td>False</td>\n",
       "      <td>False</td>\n",
       "      <td>False</td>\n",
       "      <td>False</td>\n",
       "      <td>False</td>\n",
       "      <td>False</td>\n",
       "      <td>False</td>\n",
       "      <td>...</td>\n",
       "      <td>False</td>\n",
       "      <td>False</td>\n",
       "      <td>False</td>\n",
       "      <td>False</td>\n",
       "      <td>False</td>\n",
       "      <td>False</td>\n",
       "      <td>False</td>\n",
       "      <td>False</td>\n",
       "      <td>False</td>\n",
       "      <td>False</td>\n",
       "    </tr>\n",
       "    <tr>\n",
       "      <th>3</th>\n",
       "      <td>False</td>\n",
       "      <td>False</td>\n",
       "      <td>False</td>\n",
       "      <td>False</td>\n",
       "      <td>False</td>\n",
       "      <td>False</td>\n",
       "      <td>False</td>\n",
       "      <td>False</td>\n",
       "      <td>False</td>\n",
       "      <td>False</td>\n",
       "      <td>...</td>\n",
       "      <td>False</td>\n",
       "      <td>False</td>\n",
       "      <td>False</td>\n",
       "      <td>False</td>\n",
       "      <td>False</td>\n",
       "      <td>False</td>\n",
       "      <td>False</td>\n",
       "      <td>False</td>\n",
       "      <td>False</td>\n",
       "      <td>False</td>\n",
       "    </tr>\n",
       "    <tr>\n",
       "      <th>4</th>\n",
       "      <td>False</td>\n",
       "      <td>False</td>\n",
       "      <td>False</td>\n",
       "      <td>False</td>\n",
       "      <td>False</td>\n",
       "      <td>False</td>\n",
       "      <td>False</td>\n",
       "      <td>False</td>\n",
       "      <td>False</td>\n",
       "      <td>False</td>\n",
       "      <td>...</td>\n",
       "      <td>False</td>\n",
       "      <td>False</td>\n",
       "      <td>False</td>\n",
       "      <td>False</td>\n",
       "      <td>False</td>\n",
       "      <td>False</td>\n",
       "      <td>False</td>\n",
       "      <td>False</td>\n",
       "      <td>False</td>\n",
       "      <td>False</td>\n",
       "    </tr>\n",
       "  </tbody>\n",
       "</table>\n",
       "<p>5 rows × 121 columns</p>\n",
       "</div>"
      ],
      "text/plain": [
       "   accessories.bag  accessories.umbrella  accessories.wallet  apparel.belt  \\\n",
       "0            False                 False               False         False   \n",
       "1            False                 False               False         False   \n",
       "2            False                 False               False         False   \n",
       "3            False                 False               False         False   \n",
       "4            False                 False               False         False   \n",
       "\n",
       "   apparel.costume  apparel.dress  apparel.jacket  apparel.jeans  \\\n",
       "0            False          False           False          False   \n",
       "1            False          False           False          False   \n",
       "2            False          False           False          False   \n",
       "3            False          False           False          False   \n",
       "4            False          False           False          False   \n",
       "\n",
       "   apparel.jumper  apparel.scarf  ...  kids.skates  kids.swing  kids.toys  \\\n",
       "0           False          False  ...        False       False      False   \n",
       "1           False          False  ...        False       False      False   \n",
       "2           False          False  ...        False       False      False   \n",
       "3           False          False  ...        False       False      False   \n",
       "4           False          False  ...        False       False      False   \n",
       "\n",
       "   medicine.tools.tonometer  sport.bicycle  sport.ski  sport.snowboard  \\\n",
       "0                     False          False      False            False   \n",
       "1                     False          False      False            False   \n",
       "2                     False          False      False            False   \n",
       "3                     False          False      False            False   \n",
       "4                     False          False      False            False   \n",
       "\n",
       "   sport.tennis  sport.trainer  stationery.cartrige  \n",
       "0         False          False                False  \n",
       "1         False          False                False  \n",
       "2         False          False                False  \n",
       "3         False          False                False  \n",
       "4         False          False                False  \n",
       "\n",
       "[5 rows x 121 columns]"
      ]
     },
     "execution_count": 4,
     "metadata": {},
     "output_type": "execute_result"
    }
   ],
   "source": [
    "items_df = items_df.drop(['Unnamed: 0'],axis=1)\n",
    "items_df.head()"
   ]
  },
  {
   "cell_type": "markdown",
   "metadata": {},
   "source": [
    "### Market Basket analysis"
   ]
  },
  {
   "cell_type": "code",
   "execution_count": 5,
   "metadata": {},
   "outputs": [
    {
     "data": {
      "text/plain": [
       "accessories.bag         0.002452\n",
       "accessories.umbrella    0.000048\n",
       "accessories.wallet      0.000577\n",
       "apparel.belt            0.000041\n",
       "apparel.costume         0.000957\n",
       "                          ...   \n",
       "sport.ski               0.000033\n",
       "sport.snowboard         0.000012\n",
       "sport.tennis            0.000019\n",
       "sport.trainer           0.000722\n",
       "stationery.cartrige     0.000219\n",
       "Length: 121, dtype: float64"
      ]
     },
     "execution_count": 5,
     "metadata": {},
     "output_type": "execute_result"
    }
   ],
   "source": [
    "#exploring support\n",
    "supports = items_df.apply(np.mean)\n",
    "supports"
   ]
  },
  {
   "cell_type": "code",
   "execution_count": 6,
   "metadata": {},
   "outputs": [
    {
     "data": {
      "text/plain": [
       "electronics.smartphone              0.589841\n",
       "electronics.audio.headphone         0.056664\n",
       "electronics.video.tv                0.039745\n",
       "electronics.clocks                  0.033081\n",
       "appliances.kitchen.washer           0.029997\n",
       "computers.notebook                  0.028236\n",
       "appliances.environment.vacuum       0.023924\n",
       "appliances.kitchen.refrigerators    0.021000\n",
       "electronics.tablet                  0.010202\n",
       "auto.accessories.player             0.008786\n",
       "dtype: float64"
      ]
     },
     "execution_count": 6,
     "metadata": {},
     "output_type": "execute_result"
    }
   ],
   "source": [
    "supports.nlargest(10)"
   ]
  },
  {
   "cell_type": "code",
   "execution_count": 7,
   "metadata": {},
   "outputs": [
    {
     "name": "stderr",
     "output_type": "stream",
     "text": [
      "C:\\Users\\HASSAN~1.JAV\\AppData\\Local\\Temp/ipykernel_27624/1681523625.py:7: UserWarning: Matplotlib is currently using agg, which is a non-GUI backend, so cannot show the figure.\n",
      "  plt.show()\n"
     ]
    }
   ],
   "source": [
    "# supports plot 10 largest\n",
    "fig, ax = plt.subplots(figsize=(7,5))\n",
    "ax.bar(supports.nlargest(10).index, supports.nlargest(10))\n",
    "ax.set_xlabel('Products')\n",
    "ax.set_ylabel('Support')\n",
    "plt.xticks(rotation=90)\n",
    "plt.show()"
   ]
  },
  {
   "cell_type": "code",
   "execution_count": null,
   "metadata": {},
   "outputs": [],
   "source": [
    "supports.nsmallest(10)"
   ]
  },
  {
   "cell_type": "code",
   "execution_count": null,
   "metadata": {},
   "outputs": [],
   "source": [
    "# supports plot 10 smallest\n",
    "fig, ax = plt.subplots(figsize=(7,5))\n",
    "plt.tight_layout()\n",
    "ax.bar(supports.nsmallest(10).index, supports.nsmallest(10))\n",
    "ax.set_xlabel('Products')\n",
    "ax.set_ylabel('Support')\n",
    "plt.xticks(rotation=90)\n",
    "plt.show()"
   ]
  },
  {
   "cell_type": "code",
   "execution_count": null,
   "metadata": {},
   "outputs": [],
   "source": [
    "#apriori algorithm\n",
    "frequent_itemsets = apriori(items_df, min_support = 0.0001, max_len = 4, use_colnames=True)"
   ]
  },
  {
   "cell_type": "code",
   "execution_count": null,
   "metadata": {},
   "outputs": [],
   "source": [
    "len(frequent_itemsets)"
   ]
  },
  {
   "cell_type": "code",
   "execution_count": null,
   "metadata": {},
   "outputs": [],
   "source": [
    "frequent_itemsets"
   ]
  },
  {
   "cell_type": "code",
   "execution_count": null,
   "metadata": {},
   "outputs": [],
   "source": [
    "# get association rules with pruning\n",
    "rules = association_rules(frequent_itemsets, metric='lift', min_threshold=1.1) "
   ]
  },
  {
   "cell_type": "code",
   "execution_count": null,
   "metadata": {},
   "outputs": [],
   "source": [
    "len(rules)"
   ]
  },
  {
   "cell_type": "code",
   "execution_count": null,
   "metadata": {},
   "outputs": [],
   "source": [
    "rules"
   ]
  },
  {
   "cell_type": "markdown",
   "metadata": {},
   "source": [
    "### Visualizing rules"
   ]
  },
  {
   "cell_type": "code",
   "execution_count": null,
   "metadata": {},
   "outputs": [],
   "source": [
    "rules['antecedents'] = rules['antecedents'].apply(lambda a: ','.join(list(a)))\n",
    "rules['consequents'] = rules['consequents'].apply(lambda a: ','.join(list(a)))"
   ]
  },
  {
   "cell_type": "code",
   "execution_count": null,
   "metadata": {},
   "outputs": [],
   "source": [
    "lift_table = rules.pivot(index='antecedents', columns='consequents', values='lift')\n",
    "lift_table"
   ]
  },
  {
   "cell_type": "code",
   "execution_count": null,
   "metadata": {},
   "outputs": [],
   "source": [
    "fig, ax = plt.subplots(figsize=(10,8))\n",
    "sns.heatmap(lift_table, annot=True, ax=ax)\n",
    "plt.show()"
   ]
  },
  {
   "cell_type": "code",
   "execution_count": null,
   "metadata": {},
   "outputs": [],
   "source": [
    "rules['rule'] = rules.index\n",
    "coords = rules[['antecedents','consequents','rule']]\n",
    "fig, ax = plt.subplots(figsize=(12,10))\n",
    "parallel_coordinates(coords, 'rule', colormap = 'ocean', ax=ax)\n",
    "plt.show()"
   ]
  },
  {
   "cell_type": "markdown",
   "metadata": {},
   "source": [
    "### Cross-sells and promotional bundles"
   ]
  },
  {
   "cell_type": "code",
   "execution_count": null,
   "metadata": {},
   "outputs": [],
   "source": [
    "# Cross-sells and promotional bucket heuristic:\n",
    "# 1- Group by lift/support to gather bidirectional relations\n",
    "# 2- If the difference on confidence is less than a threshold\n",
    "#     a- Create a bucket - items are very closely related\n",
    "#     b- Else - use the strongest directional relation for cross-sell"
   ]
  },
  {
   "cell_type": "markdown",
   "metadata": {},
   "source": [
    "#### Cross-sells and promotional bucket heuristic:\n",
    "#### 1. Group by lift/support to gather bidirectional relations\n",
    "#### 2. If the difference on confidence is less than a threshold\n",
    "####   a- Create a bucket - items are very closely related\n",
    "####   b- Else - use the strongest directional relation for cross-sell"
   ]
  },
  {
   "cell_type": "markdown",
   "metadata": {},
   "source": [
    "#### Promotional bundle logic"
   ]
  },
  {
   "cell_type": "code",
   "execution_count": null,
   "metadata": {},
   "outputs": [],
   "source": [
    "CONF_THRESH = 0.05"
   ]
  },
  {
   "cell_type": "code",
   "execution_count": null,
   "metadata": {},
   "outputs": [],
   "source": [
    "#rounding off floats before grouping\n",
    "rules['lift'] = round(rules['lift'],5)"
   ]
  },
  {
   "cell_type": "code",
   "execution_count": null,
   "metadata": {},
   "outputs": [],
   "source": [
    "# promotional bundles logic \n",
    "promos_filt = rules.groupby('lift') \\\n",
    "     .filter(lambda x: np.abs( x['confidence'].iloc[0] - x['confidence'].iloc[1] ) < CONF_THRESH) \\\n",
    "\n",
    "promos = promos_filt.groupby('lift') \\\n",
    "     .apply(lambda x: list(x['antecedents']))\\\n",
    "     .to_frame('promo_buckets')\\\n",
    "     .reset_index()"
   ]
  },
  {
   "cell_type": "markdown",
   "metadata": {},
   "source": [
    "#### Promotional bundles"
   ]
  },
  {
   "cell_type": "code",
   "execution_count": null,
   "metadata": {},
   "outputs": [],
   "source": [
    "promos"
   ]
  },
  {
   "cell_type": "markdown",
   "metadata": {},
   "source": [
    "#### Cross-sell logic"
   ]
  },
  {
   "cell_type": "code",
   "execution_count": null,
   "metadata": {},
   "outputs": [],
   "source": [
    "#cross sell logic\n",
    "cross_sells_cand = rules[~rules.antecedents.isin(promos_filt.antecedents)]\n",
    "cross_sells_cand"
   ]
  },
  {
   "cell_type": "code",
   "execution_count": null,
   "metadata": {},
   "outputs": [],
   "source": [
    "cross_sells = cross_sells_cand.groupby('lift')\\\n",
    "               .apply(lambda x: x[x['confidence'] ==  x['confidence'].max()])\\\n",
    "               .reset_index(drop=True)"
   ]
  },
  {
   "cell_type": "markdown",
   "metadata": {},
   "source": [
    "#### Cross-sell items"
   ]
  },
  {
   "cell_type": "code",
   "execution_count": null,
   "metadata": {},
   "outputs": [],
   "source": [
    "cross_sells"
   ]
  },
  {
   "cell_type": "code",
   "execution_count": null,
   "metadata": {},
   "outputs": [],
   "source": []
  }
 ],
 "metadata": {
  "kernelspec": {
   "display_name": "Python 3 (ipykernel)",
   "language": "python",
   "name": "python3"
  },
  "language_info": {
   "codemirror_mode": {
    "name": "ipython",
    "version": 3
   },
   "file_extension": ".py",
   "mimetype": "text/x-python",
   "name": "python",
   "nbconvert_exporter": "python",
   "pygments_lexer": "ipython3",
   "version": "3.9.7"
  }
 },
 "nbformat": 4,
 "nbformat_minor": 4
}
